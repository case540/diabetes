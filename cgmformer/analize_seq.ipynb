{
 "cells": [
  {
   "cell_type": "code",
   "execution_count": 4,
   "metadata": {},
   "outputs": [
    {
     "data": {
      "text/plain": [
       "96"
      ]
     },
     "execution_count": 4,
     "metadata": {},
     "output_type": "execute_result"
    }
   ],
   "source": [
    "from datasets import load_from_disk\n",
    "# dataset1 = load_from_disk(\"/share/home/liangzhongming/930/CGMformer/data/8_2_newData/Shanghai_714\")\n",
    "# dataset2 = load_from_disk(\"/share/home/liangzhongming/930/CGMformer/data/8_2_newData/Shanghai_1581_train\")\n",
    "\n",
    "# dataset1 = load_from_disk(\"/share/home/liangzhongming/930/CGMformer/data/Shanghai_train_subSampleV3\")\n",
    "# dataset2 = load_from_disk(\"/share/home/liangzhongming/930/CGMformer/data/Shanghai_finetune_subSampleV3\")\n",
    "\n",
    "dataset1 = load_from_disk(\"/share/home/liangzhongming/930/CGMformer/data/8_8_data/96/Shanghai_downsampled_total_96\")\n",
    "dataset2 = load_from_disk(\"/share/home/liangzhongming/930/CGMformer/data/8_8_data/96/Shanghai_downsampled_fold_0_train_96\")\n",
    "len(dataset1['input_ids'][0])"
   ]
  },
  {
   "cell_type": "code",
   "execution_count": 41,
   "metadata": {},
   "outputs": [
    {
     "name": "stderr",
     "output_type": "stream",
     "text": [
      "/share/home/liangzhongming/anaconda3/envs/Geneformer/lib/python3.8/site-packages/scipy/signal/_spectral_py.py:2014: UserWarning: nperseg = 256 is greater than input length  = 96, using nperseg = 96\n",
      "  warnings.warn('nperseg = {0:d} is greater than input length '\n",
      "/share/home/liangzhongming/anaconda3/envs/Geneformer/lib/python3.8/site-packages/scipy/signal/_spectral_py.py:2014: UserWarning: nperseg = 256 is greater than input length  = 96, using nperseg = 96\n",
      "  warnings.warn('nperseg = {0:d} is greater than input length '\n"
     ]
    },
    {
     "name": "stdout",
     "output_type": "stream",
     "text": [
      "KS test result for means: KstestResult(statistic=0.10151491488364829, pvalue=6.156524074956171e-05, statistic_location=118.40625, statistic_sign=-1)\n",
      "KS test result for vars: KstestResult(statistic=0.04726690613774793, pvalue=0.20693629851019002, statistic_location=315.93234375000003, statistic_sign=-1)\n",
      "KS test result for ACFs: KstestResult(statistic=0.029341404946590044, pvalue=2.793805752872608e-08, statistic_location=0.07566801688538578, statistic_sign=-1)\n",
      "KS test result for PSDs: KstestResult(statistic=0.013273486811560486, pvalue=0.0003554942601630342, statistic_location=42.52193606751349, statistic_sign=-1)\n"
     ]
    }
   ],
   "source": [
    "import numpy as np\n",
    "from scipy.stats import ks_2samp\n",
    "from statsmodels.tsa.stattools import acf, adfuller\n",
    "from scipy.signal import welch\n",
    "from scipy.stats import chisquare\n",
    "\n",
    "\n",
    "# Calculate statistics for original data\n",
    "original_means = [np.mean(seq) for seq in dataset1['input_ids']]\n",
    "original_vars = [np.var(seq) for seq in dataset1['input_ids']]\n",
    "original_acfs = [acf(seq, nlags=20) for seq in dataset1['input_ids']]\n",
    "original_p_values = [adfuller(seq)[1] for seq in dataset1['input_ids']]\n",
    "original_psds = [welch(seq)[1] for seq in dataset1['input_ids']]  # select PSDs\n",
    "\n",
    "# Calculate statistics for sampled data\n",
    "sampled_means = [np.mean(seq) for seq in dataset2['input_ids']]\n",
    "sampled_vars = [np.var(seq) for seq in dataset2['input_ids']]\n",
    "sampled_acfs = [acf(seq, nlags=20) for seq in dataset2['input_ids']]\n",
    "sampled_p_values = [adfuller(seq)[1] for seq in dataset2['input_ids']]\n",
    "sampled_psds = [welch(seq)[1] for seq in dataset2['input_ids']]  # select PSDs\n",
    "\n",
    "# Compare distributions of means, vars, acfs and psds using Kolmogorov-Smirnov test\n",
    "ks_result_means = ks_2samp(original_means, sampled_means)\n",
    "ks_result_vars = ks_2samp(original_vars, sampled_vars)\n",
    "ks_result_acfs = ks_2samp(np.concatenate(original_acfs), np.concatenate(sampled_acfs))\n",
    "ks_result_psds = ks_2samp(np.concatenate(original_psds), np.concatenate(sampled_psds))\n",
    "\n",
    "# Print KS test results\n",
    "print(\"KS test result for means:\", ks_result_means)\n",
    "print(\"KS test result for vars:\", ks_result_vars)\n",
    "print(\"KS test result for ACFs:\", ks_result_acfs)\n",
    "print(\"KS test result for PSDs:\", ks_result_psds)"
   ]
  }
 ],
 "metadata": {
  "kernelspec": {
   "display_name": "Geneformer",
   "language": "python",
   "name": "python3"
  },
  "language_info": {
   "codemirror_mode": {
    "name": "ipython",
    "version": 3
   },
   "file_extension": ".py",
   "mimetype": "text/x-python",
   "name": "python",
   "nbconvert_exporter": "python",
   "pygments_lexer": "ipython3",
   "version": "3.8.16"
  },
  "orig_nbformat": 4
 },
 "nbformat": 4,
 "nbformat_minor": 2
}
